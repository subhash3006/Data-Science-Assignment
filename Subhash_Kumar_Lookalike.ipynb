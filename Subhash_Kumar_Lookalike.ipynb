{
 "cells": [
  {
   "cell_type": "markdown",
   "id": "d4e9ff3f-fd7a-42de-9108-1012c4308b20",
   "metadata": {},
   "source": [
    "# **Lookalike Model** "
   ]
  },
  {
   "cell_type": "code",
   "execution_count": 1,
   "id": "b21e9433-876d-4ef7-b20e-bed0e25e6518",
   "metadata": {},
   "outputs": [],
   "source": [
    "import pandas as pd\n",
    "from sklearn.preprocessing import StandardScaler, OneHotEncoder\n",
    "from sklearn.metrics.pairwise import cosine_similarity\n",
    "from datetime import datetime\n",
    "import warnings\n",
    "warnings.filterwarnings(\"ignore\")"
   ]
  },
  {
   "cell_type": "code",
   "execution_count": 2,
   "id": "a03f58da-1863-4a3c-a95d-dffb58d14bae",
   "metadata": {},
   "outputs": [],
   "source": [
    "# Load data\n",
    "customers = pd.read_csv('Customers.csv')\n",
    "products = pd.read_csv('Products.csv')"
   ]
  },
  {
   "cell_type": "code",
   "execution_count": 3,
   "id": "97e455b4-4bab-4def-b0a2-0701d3805f23",
   "metadata": {},
   "outputs": [],
   "source": [
    "# Convert SignupDate to datetime\n",
    "customers['SignupDate'] = pd.to_datetime(customers['SignupDate'], format='%Y-%m-%d')"
   ]
  },
  {
   "cell_type": "code",
   "execution_count": 4,
   "id": "d1a7d0a5-7769-418d-a834-8a4ead595172",
   "metadata": {},
   "outputs": [],
   "source": [
    "# Calculate tenure (days since signup)\n",
    "customers['Tenure'] = (datetime.now() - customers['SignupDate']).dt.days"
   ]
  },
  {
   "cell_type": "code",
   "execution_count": 5,
   "id": "23d645a9-84dc-4394-a7b0-076f22b6b6e8",
   "metadata": {},
   "outputs": [],
   "source": [
    "# One-hot encode categorical variables (Region)\n",
    "encoder = OneHotEncoder(drop='first', sparse_output=False)\n",
    "encoded_region = encoder.fit_transform(customers[['Region']])\n",
    "encoded_region_df = pd.DataFrame(encoded_region, columns=encoder.get_feature_names_out(['Region']))"
   ]
  },
  {
   "cell_type": "code",
   "execution_count": 6,
   "id": "b9ecb3f4-f569-4ff1-adfc-6549f49918f6",
   "metadata": {},
   "outputs": [],
   "source": [
    "# Combine encoded features with original data\n",
    "customers_encoded = pd.concat([customers, encoded_region_df], axis=1)"
   ]
  },
  {
   "cell_type": "code",
   "execution_count": 7,
   "id": "f6a86da2-b780-481f-b36f-45de8d750a3d",
   "metadata": {},
   "outputs": [],
   "source": [
    "# Normalize numerical features (Tenure)\n",
    "scaler = StandardScaler()\n",
    "customers_encoded['Tenure'] = scaler.fit_transform(customers_encoded[['Tenure']])"
   ]
  },
  {
   "cell_type": "code",
   "execution_count": 8,
   "id": "c5a9847e-5cc5-4a7b-bb28-a7e8ece5641b",
   "metadata": {},
   "outputs": [],
   "source": [
    "# Drop unnecessary columns\n",
    "customers_encoded = customers_encoded.drop(['CustomerName', 'SignupDate', 'Region'], axis=1)"
   ]
  },
  {
   "cell_type": "markdown",
   "id": "d3e6af55-2189-428e-a55b-5e8555c45782",
   "metadata": {},
   "source": [
    "# **Feature Engineering**"
   ]
  },
  {
   "cell_type": "code",
   "execution_count": 9,
   "id": "e1470008-7a9c-4400-b41c-580c81c7afcd",
   "metadata": {},
   "outputs": [],
   "source": [
    "# Feature Engineering: Add TotalSpent and FavoriteCategory (placeholders for now)\n",
    "# In a real-world scenario, these would be calculated from transaction data.\n",
    "customers_encoded['TotalSpent'] = 1000  # Placeholder\n",
    "customers_encoded['FavoriteCategory'] = 'Books'  # Placeholder"
   ]
  },
  {
   "cell_type": "code",
   "execution_count": 10,
   "id": "156557ec-3c9d-4c40-a9fa-f03e991a44c0",
   "metadata": {},
   "outputs": [],
   "source": [
    "# One-hot encode FavoriteCategory\n",
    "encoded_category = encoder.fit_transform(customers_encoded[['FavoriteCategory']])\n",
    "encoded_category_df = pd.DataFrame(encoded_category, columns=encoder.get_feature_names_out(['FavoriteCategory']))"
   ]
  },
  {
   "cell_type": "code",
   "execution_count": 11,
   "id": "7730bc80-dbe4-49b3-b944-e4e3337691ee",
   "metadata": {},
   "outputs": [],
   "source": [
    "# Combine encoded features with original data\n",
    "customers_encoded = pd.concat([customers_encoded, encoded_category_df], axis=1)"
   ]
  },
  {
   "cell_type": "code",
   "execution_count": 12,
   "id": "687d9290-72ab-4530-9875-2bff8c74cc2e",
   "metadata": {},
   "outputs": [],
   "source": [
    "# Drop unnecessary columns\n",
    "customers_encoded = customers_encoded.drop(['FavoriteCategory'], axis=1)"
   ]
  },
  {
   "cell_type": "markdown",
   "id": "6c79e937-c636-489a-bae0-cca620caeae3",
   "metadata": {},
   "source": [
    "# **Similarity Calculation**"
   ]
  },
  {
   "cell_type": "code",
   "execution_count": 13,
   "id": "4c563b19-fb88-42e2-b88d-dd2cb5ecbf39",
   "metadata": {},
   "outputs": [],
   "source": [
    "# Drop non-numeric columns (CustomerID)\n",
    "customers_numeric = customers_encoded.drop(['CustomerID'], axis=1)\n",
    "\n",
    "# Check for missing values and fill them if necessary\n",
    "if customers_numeric.isnull().any().any():\n",
    "    customers_numeric = customers_numeric.fillna(0)\n",
    "\n",
    "# Calculate cosine similarity between customers\n",
    "similarity_matrix = cosine_similarity(customers_numeric)\n",
    "\n",
    "# Convert similarity matrix to DataFrame\n",
    "similarity_df = pd.DataFrame(similarity_matrix, index=customers['CustomerID'], columns=customers['CustomerID'])"
   ]
  },
  {
   "cell_type": "markdown",
   "id": "2252c6e5-2383-4ea3-8124-5409fb37c170",
   "metadata": {},
   "source": [
    "# **Recommendation**"
   ]
  },
  {
   "cell_type": "code",
   "execution_count": 14,
   "id": "b11af474-9cc6-4d6f-970f-1db1f6023f4a",
   "metadata": {},
   "outputs": [
    {
     "name": "stdout",
     "output_type": "stream",
     "text": [
      "  CustomerID RecommendedCustomerID  SimilarityScore\n",
      "0      C0001                 C0112              1.0\n",
      "1      C0001                 C0025              1.0\n",
      "2      C0001                 C0071              1.0\n",
      "3      C0002                 C0134              1.0\n",
      "4      C0002                 C0045              1.0\n"
     ]
    }
   ],
   "source": [
    "# Create a dictionary to store recommendations\n",
    "recommendations = {}\n",
    "\n",
    "# For each customer, find the top 3 most similar customers\n",
    "for customer in customers['CustomerID'][:20]:  # Only first 20 customers as per instructions\n",
    "    similar_customers = similarity_df[customer].sort_values(ascending=False)[1:4]  # Exclude self\n",
    "    recommendations[customer] = list(zip(similar_customers.index, similar_customers.values))\n",
    "\n",
    "# Convert recommendations to DataFrame\n",
    "recommendations_df = pd.DataFrame.from_dict(recommendations, orient='index')\n",
    "recommendations_df = recommendations_df.stack().reset_index()\n",
    "recommendations_df.columns = ['CustomerID', 'Index', 'Recommendation']\n",
    "\n",
    "# Split Recommendation into CustomerID and Similarity Score\n",
    "recommendations_df[['RecommendedCustomerID', 'SimilarityScore']] = pd.DataFrame(recommendations_df['Recommendation'].tolist(), index=recommendations_df.index)\n",
    "recommendations_df = recommendations_df.drop(['Index', 'Recommendation'], axis=1)\n",
    "\n",
    "\n",
    "# Save to CSV\n",
    "recommendations_df.to_csv('Subhash_Kumar_Lookalike.csv', index=False)\n",
    "\n",
    "# Print the first 5 rows of the recommendations\n",
    "print(recommendations_df.head())"
   ]
  },
  {
   "cell_type": "code",
   "execution_count": null,
   "id": "dd9542c7-79c6-4548-8300-6b30a39951ca",
   "metadata": {},
   "outputs": [],
   "source": []
  }
 ],
 "metadata": {
  "kernelspec": {
   "display_name": "Python (your_env_name)",
   "language": "python",
   "name": "your_env_name"
  },
  "language_info": {
   "codemirror_mode": {
    "name": "ipython",
    "version": 3
   },
   "file_extension": ".py",
   "mimetype": "text/x-python",
   "name": "python",
   "nbconvert_exporter": "python",
   "pygments_lexer": "ipython3",
   "version": "3.12.3"
  }
 },
 "nbformat": 4,
 "nbformat_minor": 5
}
